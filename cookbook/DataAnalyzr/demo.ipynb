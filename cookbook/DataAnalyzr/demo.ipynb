{
 "cells": [
  {
   "cell_type": "code",
   "execution_count": 2,
   "metadata": {},
   "outputs": [
    {
     "data": {
      "text/plain": [
       "True"
      ]
     },
     "execution_count": 2,
     "metadata": {},
     "output_type": "execute_result"
    }
   ],
   "source": [
    "from lyzr import DataAnalyzr, DataConnector\n",
    "from dotenv import load_dotenv; load_dotenv()"
   ]
  },
  {
   "cell_type": "code",
   "execution_count": 3,
   "metadata": {},
   "outputs": [],
   "source": [
    "df = DataConnector().fetch_dataframe_from_csv(file_path='./data.csv')"
   ]
  },
  {
   "cell_type": "code",
   "execution_count": 4,
   "metadata": {},
   "outputs": [],
   "source": [
    "data_analyzr = DataAnalyzr(df=df, api_key='sk-')"
   ]
  },
  {
   "cell_type": "code",
   "execution_count": 4,
   "metadata": {},
   "outputs": [
    {
     "name": "stdout",
     "output_type": "stream",
     "text": [
      "The given dataset sample contains information about used cars, including their price, brand, model, manufacturing year, mileage, engine capacity, transmission type, drive type, hand drive position, and fuel type. The dataset appears to be a collection of various car listings with five rows as an example. Each row represents a different car listing and provides details such as the car's price in the local currency, the brand name (e.g., Nissan or Toyota), the specific model (e.g., March or Avensis), the year of manufacture (ranging from 2003 to 2010), the mileage in kilometers traveled by the car so far, the engine capacity in cubic centimeters (cc), the transmission type (either automatic or manual), drive type (2-wheel drive or 4-wheel drive), hand drive position (right-hand drive or left-hand drive), and fuel type used by the car (e.g., gasoline). This dataset can be utilized for various purposes such as analyzing pricing trends based on different factors like brand and model year or predicting prices based on other features like mileage and engine capacity.\n"
     ]
    }
   ],
   "source": [
    "description = data_analyzr.dataset_description()\n",
    "print(description)"
   ]
  },
  {
   "cell_type": "code",
   "execution_count": 3,
   "metadata": {},
   "outputs": [
    {
     "name": "stdout",
     "output_type": "stream",
     "text": [
      "Exploratory Analysis:\n",
      "1. What are the different brands of cars present in the dataset?\n",
      "2. How many unique car models are there in the dataset?\n",
      "3. What is the average price of used cars in the dataset?\n",
      "4. What is the distribution of car prices in the dataset?\n",
      "5. How many cars have a mileage greater than 100,000 km?\n",
      "\n",
      "Regression Analysis:\n",
      "6. Can we predict the price of a used car based on its mileage and engine capacity?\n",
      "7. Is there a relationship between the manufacturing year and price of a car?\n",
      "\n",
      "Correlation Analysis:\n",
      "8. Is there a correlation between mileage and price of used cars?\n",
      "9. Are there any correlations between engine capacity and transmission type?\n",
      "\n",
      "Clustering Analysis:\n",
      "10. Can we cluster cars based on their brand, model, and fuel type?\n",
      "11. Are there any clusters based on drive type and hand drive position?\n",
      "\n",
      "Time Series Analysis:\n",
      "12. How has the average price of used cars changed over time (based on manufacturing year)?\n",
      "13. Is there any seasonality pattern in car prices based on manufacturing year?\n",
      "\n",
      "14. What is the most common transmission type among used cars in this dataset?\n",
      "15. Which brand has the highest average price for their used cars?\n",
      "16. Are manual transmission cars generally cheaper than automatic transmission ones?\n",
      "\n",
      "17. Do right-hand drive vehicles have higher or lower prices compared to left-hand drive vehicles?\n",
      "18. Which fuel type is most commonly used among used cars in this dataset?\n",
      "\n",
      "19.What is the distribution of engine capacities among different brands of used cars? \n",
      "20.How does mileage vary across different models?\n"
     ]
    }
   ],
   "source": [
    "queries = data_analyzr.ai_queries_df()\n",
    "print(queries)"
   ]
  },
  {
   "cell_type": "code",
   "execution_count": 5,
   "metadata": {},
   "outputs": [
    {
     "name": "stdout",
     "output_type": "stream",
     "text": [
      "- Perform a correlation analysis between the price and other numerical variables (mileage, engine_capacity, year) to identify the factors that have the strongest impact on the price of the vehicles.\n",
      "- Conduct a clustering analysis on the vehicles based on their features (mark, model, transmission, drive, hand_drive, fuel) to identify distinct groups of vehicles and understand the characteristics that differentiate them.\n",
      "- Create a time series analysis to examine the trend of vehicle prices over the years and identify any seasonality or patterns in the data.\n",
      "- Implement a predictive modeling technique, such as regression or random forest, to build a model that can accurately predict the price of a vehicle based on its features. This can help in estimating the value of new vehicles or identifying potential outliers in the dataset.\n"
     ]
    }
   ],
   "source": [
    "analysis_recommendation = data_analyzr.analysis_recommendation()\n",
    "print(analysis_recommendation)"
   ]
  },
  {
   "cell_type": "code",
   "execution_count": 6,
   "metadata": {},
   "outputs": [],
   "source": [
    "analysis = data_analyzr.analysis_insights(user_input=\"Which fuel type is most commonly used among used cars in this dataset?\")"
   ]
  },
  {
   "cell_type": "code",
   "execution_count": 7,
   "metadata": {},
   "outputs": [
    {
     "name": "stdout",
     "output_type": "stream",
     "text": [
      "- The most commonly used fuel type among used cars in this dataset is gasoline, with a count of 2290.\n",
      "- Diesel is the second most commonly used fuel type, with a count of 18.\n",
      "- LPG (liquefied petroleum gas) is the third most commonly used fuel type, with a count of 7.\n"
     ]
    }
   ],
   "source": [
    "print(analysis)"
   ]
  },
  {
   "cell_type": "code",
   "execution_count": 5,
   "metadata": {},
   "outputs": [
    {
     "data": {
      "image/png": "[encoded data removed]",
      "text/plain": [
       "<Figure size 640x480 with 1 Axes>"
      ]
     },
     "metadata": {},
     "output_type": "display_data"
    }
   ],
   "source": [
    "visualization = data_analyzr.visualizations(user_input=\"Which fuel type is most commonly used among used cars in this dataset?\")"
   ]
  },
  {
   "cell_type": "code",
   "execution_count": 8,
   "metadata": {},
   "outputs": [
    {
     "name": "stdout",
     "output_type": "stream",
     "text": [
      "[{'Recommendation': '1. Consider expanding the dataset to include more diverse fuel types.', 'Basis of the Recommendation': 'The dataset currently has a limited representation of fuel types, with gasoline being the most commonly used. By expanding the dataset to include more diverse fuel types such as electric or hydrogen, you can gain a better understanding of the market trends and preferences for different fuel types among used cars.', 'Impact if implemented': 'Expanding the dataset will provide a more comprehensive view of fuel type preferences among used cars, allowing for better analysis and decision-making in the automotive industry.'}, {'Recommendation': '2. Conduct a market analysis to understand the demand for different fuel types among used car buyers.', 'Basis of the Recommendation': 'To gain deeper insights into consumer preferences for different fuel types among used cars, it is recommended to conduct a market analysis. This analysis can involve surveys, interviews, or data collection from various sources to understand factors influencing buyer decisions and their willingness to purchase cars with specific fuel types.', 'Impact if implemented': 'A market analysis will provide valuable insights into consumer demand for different fuel types among used cars. This information can help car manufacturers and dealerships align their offerings with customer preferences and make informed business decisions.'}, {'Recommendation': '3. Explore incentives or subsidies for alternative fuel vehicles in order to promote their adoption in the used car market.', 'Basis of the Recommendation': \"Given that gasoline is currently the most commonly used fuel type among used cars in this dataset, it may be beneficial to explore incentives or subsidies that encourage buyers to choose alternative fuel vehicles (such as electric or hybrid) instead. These incentives can include tax credits, reduced registration fees, or charging infrastructure development.\", 'Impact if implemented': \"By promoting alternative fuel vehicles through incentives or subsidies, there is potential to shift consumer preferences towards cleaner and more sustainable options in the used car market. This can contribute to reducing carbon emissions and promoting environmental sustainability.\"}]\n"
     ]
    }
   ],
   "source": [
    "recommendations = data_analyzr.recommendations(user_input=\"Which fuel type is most commonly used among used cars in this dataset?\")\n",
    "print(recommendations)"
   ]
  },
  {
   "cell_type": "code",
   "execution_count": 10,
   "metadata": {},
   "outputs": [
    {
     "name": "stdout",
     "output_type": "stream",
     "text": [
      "To-do's:\n",
      "\n",
      "1. Create a list of alternative fuel types (electric, hybrid, etc.) to encourage their use among used cars.\n",
      "2. Write down the incentives (tax credits, rebates) that can be provided for purchasing cars with alternative fuel types.\n",
      "3. Speak to car owners and dealerships to gather information on the availability of charging stations for electric vehicles in the area.\n",
      "4. Setup 30 minutes to dive deep and analyze the impact of implementing incentives for alternative fuel types on reducing gasoline consumption and carbon emissions.\n",
      "5. Plan to increase the availability of charging stations for electric vehicles by reaching out to relevant stakeholders and discussing potential solutions.\n"
     ]
    }
   ],
   "source": [
    "tasks = data_analyzr.tasks(user_input=\"Which fuel type is most commonly used among used cars in this dataset?\")\n",
    "print(tasks)"
   ]
  }
 ],
 "metadata": {
  "kernelspec": {
   "display_name": "Python 3",
   "language": "python",
   "name": "python3"
  },
  "language_info": {
   "codemirror_mode": {
    "name": "ipython",
    "version": 3
   },
   "file_extension": ".py",
   "mimetype": "text/x-python",
   "name": "python",
   "nbconvert_exporter": "python",
   "pygments_lexer": "ipython3",
   "version": "3.11.6"
  }
 },
 "nbformat": 4,
 "nbformat_minor": 2
}
